{
 "cells": [
  {
   "cell_type": "markdown",
   "metadata": {},
   "source": [
    "The dataset consists of 10 numerical and 8 categorical attributes.\n",
    "The 'Revenue' attribute can be used as the class label.\n",
    "\n",
    "\"Administrative\", \"Administrative Duration\", \"Informational\", \"Informational Duration\", \"Product Related\" and \"Product Related Duration\" represent the number of different types of pages visited by the visitor in that session and total time spent in each of these page categories. The values of these features are derived from the URL information of the pages visited by the user and updated in real time when a user takes an action, e.g. moving from one page to another. The \"Bounce Rate\", \"Exit Rate\" and \"Page Value\" features represent the metrics measured by \"Google Analytics\" for each page in the e-commerce site. The value of \"Bounce Rate\" feature for a web page refers to the percentage of visitors who enter the site from that page and then leave (\"bounce\") without triggering any other requests to the analytics server during that session. The value of \"Exit Rate\" feature for a specific web page is calculated as for all pageviews to the page, the percentage that were the last in the session. The \"Page Value\" feature represents the average value for a web page that a user visited before completing an e-commerce transaction. The \"Special Day\" feature indicates the closeness of the site visiting time to a specific special day (e.g. Mother’s Day, Valentine's Day) in which the sessions are more likely to be finalized with transaction. The value of this attribute is determined by considering the dynamics of e-commerce such as the duration between the order date and delivery date. For example, for Valentina’s day, this value takes a nonzero value between February 2 and February 12, zero before and after this date unless it is close to another special day, and its maximum value of 1 on February 8. The dataset also includes operating system, browser, region, traffic type, visitor type as returning or new visitor, a Boolean value indicating whether the date of the visit is weekend, and month of the year.\n",
    "\n",
    "The dataset consists of feature vectors belonging to 12,330 sessions.\n",
    "The dataset was formed so that each session\n",
    "would belong to a different user in a 1-year period to avoid\n",
    "any tendency to a specific campaign, special day, user\n",
    "profile, or period."
   ]
  },
  {
   "cell_type": "code",
   "execution_count": null,
   "metadata": {},
   "outputs": [],
   "source": [
    "import pandas as pd\n",
    "import numpy as np\n",
    "import seaborn as sea\n",
    "import matplotlib.pyplot as plt\n",
    "from sklearn.preprocessing import LabelEncoder\n",
    "from sklearn.preprocessing import StandardScaler\n",
    "from sklearn.preprocessing import MinMaxScaler\n",
    "from sklearn.cluster import KMeans\n",
    "from mpl_toolkits.mplot3d import Axes3D\n",
    "\n",
    "from sklearn.cluster import MeanShift\n",
    "from sklearn.cluster import DBSCAN\n",
    "from sklearn.decomposition import PCA\n",
    "from sklearn.discriminant_analysis import LinearDiscriminantAnalysis\n",
    "from sklearn.metrics import silhouette_score\n"
   ]
  },
  {
   "cell_type": "code",
   "execution_count": null,
   "metadata": {},
   "outputs": [],
   "source": [
    "data=pd.read_csv('online_shoppers_intention.csv')\n",
    "data.head(5)\n",
    "dataN=pd.read_csv('online_shoppers_intention.csv')"
   ]
  },
  {
   "cell_type": "code",
   "execution_count": null,
   "metadata": {},
   "outputs": [],
   "source": [
    "data.shape"
   ]
  },
  {
   "cell_type": "code",
   "execution_count": null,
   "metadata": {},
   "outputs": [],
   "source": [
    "data.describe()"
   ]
  },
  {
   "cell_type": "code",
   "execution_count": null,
   "metadata": {},
   "outputs": [],
   "source": [
    "data.describe(include='all')"
   ]
  },
  {
   "cell_type": "code",
   "execution_count": null,
   "metadata": {},
   "outputs": [],
   "source": [
    "data.isnull().sum()"
   ]
  },
  {
   "cell_type": "code",
   "execution_count": null,
   "metadata": {},
   "outputs": [],
   "source": [
    "for column in data:\n",
    "    unique_vals = np.unique(data[column])\n",
    "    nr_values = len(unique_vals)\n",
    "    if nr_values < 10:\n",
    "        print('The number of values for feature {} :{} -- {}'.format(column, nr_values,unique_vals))\n",
    "    else:\n",
    "        print('The number of values for feature {} :{}'.format(column, nr_values))"
   ]
  },
  {
   "cell_type": "code",
   "execution_count": null,
   "metadata": {},
   "outputs": [],
   "source": [
    "nominalColumns=['Month','VisitorType','Weekend','Revenue','Region','TrafficType','Region','Browser','OperatingSystems','SpecialDay']"
   ]
  },
  {
   "cell_type": "code",
   "execution_count": null,
   "metadata": {},
   "outputs": [],
   "source": [
    "def showData(data):\n",
    "    for col in data:\n",
    "        if(col in nominalColumns):\n",
    "            sea.countplot(x=col, data=data,palette='Set3')\n",
    "            plt.xticks(rotation=45)\n",
    "        else:\n",
    "            ax=sea.distplot(data[[col]],hist=False)\n",
    "            ax.set(xlabel=col)\n",
    "        plt.show()\n",
    "        \n",
    "showData(data)"
   ]
  },
  {
   "cell_type": "code",
   "execution_count": null,
   "metadata": {},
   "outputs": [],
   "source": [
    "data.count()"
   ]
  },
  {
   "cell_type": "code",
   "execution_count": null,
   "metadata": {},
   "outputs": [],
   "source": [
    "dataNotNan=data.dropna(axis=0)\n",
    "dataNotNan.shape"
   ]
  },
  {
   "cell_type": "code",
   "execution_count": null,
   "metadata": {},
   "outputs": [],
   "source": [
    "data.drop_duplicates().shape"
   ]
  },
  {
   "cell_type": "code",
   "execution_count": null,
   "metadata": {},
   "outputs": [],
   "source": [
    "def indicies_of_outliers(x):\n",
    "    q1=x.quantile(0.25)\n",
    "    q3=x.quantile(0.75)\n",
    "    iqr = q3 - q1\n",
    "    lower_bound = q1 - (iqr * 1.5)\n",
    "    upper_bound = q3 + (iqr * 1.5)\n",
    "    print( ( x > upper_bound) | (x < lower_bound))\n",
    "\n",
    "\n",
    "#indicies_of_outliers(data)"
   ]
  },
  {
   "cell_type": "code",
   "execution_count": null,
   "metadata": {},
   "outputs": [],
   "source": [
    "def removeOutliers(data):\n",
    "    for ind,row in data.iterrows():\n",
    "        for col in data:\n",
    "            if(col not  in nominalColumns):\n",
    "                Q1 = data[col].quantile(0.25)\n",
    "                Q3 = data[col].quantile(0.75)\n",
    "                IQR = Q3 - Q1\n",
    "                if((row[col]< (Q1 - 1.5 * IQR))|(row[col] > (Q3 + 1.5 * IQR))):\n",
    "                    data=data.drop([ind])\n",
    "                    break\n",
    "\n",
    "\n",
    "    return data\n",
    "#dataWoOutliers=removeOutliers(data)\n",
    "#dataWoOutliers"
   ]
  },
  {
   "cell_type": "code",
   "execution_count": null,
   "metadata": {},
   "outputs": [],
   "source": [
    "def nominalToNumeric(data):\n",
    "    le = LabelEncoder()\n",
    "    for col in nominalColumns:\n",
    "        le.fit(data[col])\n",
    "        data[col]=le.transform(data[col])\n",
    "    return data"
   ]
  },
  {
   "cell_type": "code",
   "execution_count": null,
   "metadata": {},
   "outputs": [],
   "source": [
    "def MinMaxScale(data):\n",
    "    for col in data:\n",
    "        scale=MinMaxScaler(feature_range=(-1, 1))\n",
    "        data = pd.DataFrame(scale.fit_transform(data.values), columns=data.columns, index=data.index)\n",
    "    return data\n",
    "\n",
    "def StandardScale(data):\n",
    "    scale=StandardScaler()\n",
    "    datapom=pd.DataFrame()\n",
    "    datapom = pd.DataFrame(scale.fit_transform(data.values), columns=data.columns, index=data.index)\n",
    "    \n",
    "    return datapom"
   ]
  },
  {
   "cell_type": "code",
   "execution_count": null,
   "metadata": {},
   "outputs": [],
   "source": [
    "data=nominalToNumeric(data)"
   ]
  },
  {
   "cell_type": "code",
   "execution_count": null,
   "metadata": {},
   "outputs": [],
   "source": [
    "sea.pairplot(data)"
   ]
  },
  {
   "cell_type": "markdown",
   "metadata": {},
   "source": [
    "## KMeans\n",
    "\n",
    "Odredjujemo k centara i sve tacke se dodaju odredjenom klasteru na osnovu blizine centru na osnovu Euklidske distance. Zatim se ponovo izracunavaju centri, sve dok se u dve iteracije ne promene klasteri. Treba isprobavati da vidimo koji je najbolji broj k"
   ]
  },
  {
   "cell_type": "code",
   "execution_count": null,
   "metadata": {},
   "outputs": [],
   "source": [
    "dataScaled=StandardScale(data)\n",
    "km=KMeans(n_clusters=2,random_state=42)\n",
    "km.fit(dataScaled)\n",
    "km.predict(dataScaled)\n",
    "labels=km.labels_\n",
    "print(km.labels_)\n",
    "\n",
    "print(km.inertia_)\n",
    "\n",
    "print(km.labels_.shape)\n",
    "data['Cluster']=labels\n",
    "dataScaled['Cluster']=labels\n",
    "\n",
    "\n",
    "\n",
    "sea.scatterplot(y=data['Revenue'],x=data['VisitorType'],hue='Cluster',data=data)"
   ]
  },
  {
   "cell_type": "code",
   "execution_count": null,
   "metadata": {},
   "outputs": [],
   "source": [
    "sea.scatterplot(y=data['Revenue'],x=data['Month'],hue='Cluster',data=data)"
   ]
  },
  {
   "cell_type": "code",
   "execution_count": null,
   "metadata": {},
   "outputs": [],
   "source": [
    "\n",
    "sea.scatterplot(y=data['Revenue'],x=data['ProductRelated'],hue='Cluster',data=data)"
   ]
  },
  {
   "cell_type": "code",
   "execution_count": null,
   "metadata": {},
   "outputs": [],
   "source": [
    "\n",
    "sea.scatterplot(y=data['Revenue'],x=data['ProductRelated_Duration'],hue='Cluster',data=data)"
   ]
  },
  {
   "cell_type": "code",
   "execution_count": null,
   "metadata": {},
   "outputs": [],
   "source": [
    "\n",
    "  sea.scatterplot(y=data['Revenue'],x=data['Informational'],hue='Cluster',data=data)  "
   ]
  },
  {
   "cell_type": "code",
   "execution_count": null,
   "metadata": {},
   "outputs": [],
   "source": [
    "\n",
    "sea.scatterplot(y=data['Revenue'],x=data['PageValues'],hue='Cluster',data=data)  "
   ]
  },
  {
   "cell_type": "code",
   "execution_count": null,
   "metadata": {},
   "outputs": [],
   "source": [
    "\n",
    "sea.scatterplot(y=data['Revenue'],x=data['Browser'],hue='Cluster',data=data)  "
   ]
  },
  {
   "cell_type": "markdown",
   "metadata": {},
   "source": [
    "Inertia"
   ]
  },
  {
   "cell_type": "code",
   "execution_count": null,
   "metadata": {},
   "outputs": [],
   "source": [
    "no_of_clusters = range(2,20) #[2,3,4,5,6,7,8,9]\n",
    "inertia = []\n",
    "\n",
    "\n",
    "for f in no_of_clusters:\n",
    "    kmeans = KMeans(n_clusters=f, random_state=2)\n",
    "    kmeans = kmeans.fit(dataScaled)\n",
    "    u = kmeans.inertia_\n",
    "    inertia.append(u)\n",
    "    print(\"The innertia for :\", f, \"Clusters is:\", u)"
   ]
  },
  {
   "cell_type": "code",
   "execution_count": null,
   "metadata": {},
   "outputs": [],
   "source": [
    "fig, (ax1) = plt.subplots(1, figsize=(16,6))\n",
    "xx = np.arange(len(no_of_clusters))\n",
    "ax1.plot(xx, inertia)\n",
    "ax1.set_xticks(xx)\n",
    "ax1.set_xticklabels(no_of_clusters, rotation='vertical')\n",
    "plt.xlabel('Number of clusters')\n",
    "plt.ylabel('Inertia Score')\n",
    "plt.title(\"Inertia Plot per k\")"
   ]
  },
  {
   "cell_type": "code",
   "execution_count": null,
   "metadata": {},
   "outputs": [],
   "source": [
    "kmeans = KMeans(n_clusters=3, random_state=2)\n",
    "kmeans = kmeans.fit(dataScaled)\n",
    "\n",
    "\n",
    "kmeans.labels_\n",
    "\n",
    "# \"predictions\" for new data\n",
    "predictions = kmeans.predict(dataScaled)\n",
    "\n",
    "# calculating the Counts of the cluster\n",
    "unique, counts = np.unique(predictions, return_counts=True)\n",
    "counts = counts.reshape(1,3)\n",
    "\n",
    "# Creating a datagrame\n",
    "countscldf = pd.DataFrame(counts, columns = [\"Cluster 0\",\"Cluster 1\",\"Cluster 2\"])\n",
    "\n",
    "# display\n",
    "countscldf"
   ]
  },
  {
   "cell_type": "code",
   "execution_count": null,
   "metadata": {},
   "outputs": [],
   "source": [
    "\n",
    "data['Cluster']=kmeans.labels_\n",
    "dataScaled['Cluster']=kmeans.labels_\n",
    "\n",
    "\n",
    "\n",
    "#sea.scatterplot(y=data['Revenue'],x=data['VisitorType'],hue='Cluster',data=data)\n",
    "df_mean = (dataScaled.loc[dataScaled.Cluster!=-1, :]\n",
    "                    .groupby('Cluster').mean())\n",
    "results = pd.DataFrame(columns=['Variable', 'Var'])\n",
    "for column in df_mean.columns[1:]:\n",
    "    results.loc[len(results), :] = [column, np.var(df_mean[column])]\n",
    "selected_columns = list(results.sort_values(\n",
    "        'Var', ascending=False,\n",
    "    ).head(10).Variable.values) + ['Cluster']\n",
    "tidy = dataScaled[selected_columns].melt(id_vars='Cluster')\n",
    "sea.barplot(x='Cluster', y='value', hue='variable', data=tidy)"
   ]
  },
  {
   "cell_type": "code",
   "execution_count": null,
   "metadata": {},
   "outputs": [],
   "source": [
    "sea.scatterplot(y=data['Revenue'],x=data['Month'],hue='Cluster',data=data)"
   ]
  },
  {
   "cell_type": "code",
   "execution_count": null,
   "metadata": {},
   "outputs": [],
   "source": [
    "sea.scatterplot(y=data['VisitorType'],x=data['Month'],hue='Cluster',data=data)"
   ]
  },
  {
   "cell_type": "code",
   "execution_count": null,
   "metadata": {},
   "outputs": [],
   "source": [
    "sea.scatterplot(y=data['VisitorType'],x=data['ProductRelated'],hue='Cluster',data=data)"
   ]
  },
  {
   "cell_type": "code",
   "execution_count": null,
   "metadata": {},
   "outputs": [],
   "source": []
  },
  {
   "cell_type": "code",
   "execution_count": null,
   "metadata": {},
   "outputs": [],
   "source": [
    "np.set_printoptions(threshold=np.inf)"
   ]
  },
  {
   "cell_type": "markdown",
   "metadata": {},
   "source": [
    "## PCA Analiza\n",
    "-Zelimo da nadjemo Principal components, najbitnije karakteristike, one koje najvse znace za nas dataset.\n",
    "-Prva najbitnija komponenta je ona koja ima najvise znacaja koja najvise oznacava\n",
    "95% vrijanse dataseta odredjuje atribute trebamo zadrzati"
   ]
  },
  {
   "cell_type": "markdown",
   "metadata": {},
   "source": [
    "### PCA Analiza 2 elementa"
   ]
  },
  {
   "cell_type": "code",
   "execution_count": null,
   "metadata": {
    "scrolled": true
   },
   "outputs": [],
   "source": [
    "\n",
    "X = dataScaled\n",
    "y_num = predictions\n",
    "\n",
    "target_names = [\"Cluster 0\",\"Cluster 1\",\"Cluster 2\", \"Cluster 3\"]\n",
    "\n",
    "pca = PCA(n_components=2, random_state = 453)\n",
    "X_r = pca.fit(X).transform(X)\n",
    "\n",
    "\n",
    "# Percentage of variance explained for each components\n",
    "print('Explained variance ratio (first two components): %s' % str(pca.explained_variance_ratio_))\n",
    "\n",
    "# Plotting the data\n",
    "plt.figure()\n",
    "plt.figure(figsize=(12,8))\n",
    "colors = ['navy', 'turquoise', 'darkorange', 'red']\n",
    "lw = 2\n",
    "\n",
    "\n",
    "for color, i, target_name in zip(colors, [0, 1, 2, 3, 4], target_names):\n",
    "    plt.scatter(X_r[y_num == i, 0], X_r[y_num == i, 1], color=color, alpha=.8, lw=lw,label=target_name)\n",
    "    \n",
    "plt.legend(loc='best', shadow=False, scatterpoints=1)\n",
    "plt.legend(bbox_to_anchor=(1.05, 1), loc=2, borderaxespad=0.6)   \n",
    "plt.title('PCA of 2 Items')\n",
    "plt.show()\n"
   ]
  },
  {
   "cell_type": "markdown",
   "metadata": {},
   "source": [
    "### PCA Analiza 3 elementa"
   ]
  },
  {
   "cell_type": "code",
   "execution_count": null,
   "metadata": {},
   "outputs": [],
   "source": [
    "X = dataScaled\n",
    "y_num = predictions\n",
    "\n",
    "target_names = [\"Cluster 0\",\"Cluster 1\",\"Cluster 2\", \"Cluster 3\"]\n",
    "\n",
    "pca = PCA(n_components=3, random_state = 453)\n",
    "X_r = pca.fit(X).transform(X)\n",
    "\n",
    "\n",
    "# Percentage of variance explained for each components\n",
    "print('Explained variance ratio (first two components): %s' % str(pca.explained_variance_ratio_))\n",
    "\n",
    "# Plotting the data\n",
    "\n",
    "colors = ['navy', 'turquoise', 'darkorange', 'red']\n",
    "lw = 3\n",
    "\n",
    "\n",
    "\n",
    "fig = plt.figure(1, figsize=(7,7))\n",
    "ax = Axes3D(fig, rect=[0, 0, 0.95, 1], elev=48, azim=134)\n",
    "for color, i, target_name in zip(colors, [0, 1, 2, 3, 4], target_names):\n",
    "    ax.scatter(X_r[y_num == i, 1], X_r[y_num == i, 0], X_r[y_num == i, 2],\n",
    "           edgecolor=\"k\", s=50)\n",
    "plt.title('PCA of 3 Items')\n",
    "plt.show()"
   ]
  },
  {
   "cell_type": "markdown",
   "metadata": {},
   "source": [
    "### Nalazenje atributa"
   ]
  },
  {
   "cell_type": "code",
   "execution_count": null,
   "metadata": {},
   "outputs": [],
   "source": [
    "\n",
    "# Trying with Dimentionality reduction and then Kmeans\n",
    "\n",
    "n_components = X.shape[1]\n",
    "\n",
    "# Running PCA with all components\n",
    "pca = PCA(n_components=n_components, random_state = 453)\n",
    "X_r = pca.fit(X).transform(X)\n",
    "\n",
    "\n",
    "# Calculating the 95% Variance\n",
    "total_variance = sum(pca.explained_variance_)\n",
    "print(\"Total Variance in our dataset is: \", total_variance)\n",
    "var_95 = total_variance * 0.95\n",
    "print(\"The 95% variance we want to have is: \", var_95)\n",
    "print(\"\")\n",
    "\n",
    "# Creating a df with the components and explained variance\n",
    "a = zip(range(0,n_components), pca.explained_variance_)\n",
    "a = pd.DataFrame(a, columns=[\"PCA Comp\", \"Explained Variance\"])\n",
    "\n",
    "# Trying to hit 95%\n",
    "print(\"Variance explain with 6 n_compononets: \", sum(a[\"Explained Variance\"][0:6]))\n",
    "print(\"Variance explain with 8 n_compononets: \", sum(a[\"Explained Variance\"][0:8]))\n",
    "print(\"Variance explain with 10 n_compononets: \", sum(a[\"Explained Variance\"][0:10]))\n",
    "print(\"Variance explain with 11 n_compononets: \", sum(a[\"Explained Variance\"][0:11]))\n",
    "print(\"Variance explain with 12 n_compononets: \", sum(a[\"Explained Variance\"][0:12]))\n",
    "print(\"Variance explain with 13 n_compononets: \", sum(a[\"Explained Variance\"][0:13]))\n",
    "print(\"Variance explain with 14 n_compononets: \", sum(a[\"Explained Variance\"][0:14]))\n",
    "print(\"Variance explain with 15 n_compononets: \", sum(a[\"Explained Variance\"][0:15]))\n",
    "\n",
    "# Plotting the Data\n",
    "plt.figure(1, figsize=(14, 8))\n",
    "plt.plot(pca.explained_variance_ratio_, linewidth=2, c=\"r\")\n",
    "plt.xlabel('n_components')\n",
    "plt.ylabel('explained_ratio_')\n",
    "\n",
    "# Plotting line with 95% e.v.\n",
    "plt.axvline(15,linestyle=':', label='n_components - 95% explained', c =\"blue\")\n",
    "plt.legend(prop=dict(size=12))\n",
    "\n",
    "# adding arrow\n",
    "plt.annotate('15 eigenvectors used to explain 95% variance', xy=(15, pca.explained_variance_ratio_[15]), \n",
    "             xytext=(17, pca.explained_variance_ratio_[10]),\n",
    "            arrowprops=dict(facecolor='blue', shrink=0.05))\n",
    "\n",
    "plt.show()"
   ]
  },
  {
   "cell_type": "markdown",
   "metadata": {},
   "source": [
    "### Ponovo pustamo KMeans"
   ]
  },
  {
   "cell_type": "code",
   "execution_count": null,
   "metadata": {},
   "outputs": [],
   "source": [
    "pca = PCA(n_components=15, random_state = 453)\n",
    "X_r = pca.fit(X).transform(X)\n",
    "\n",
    "inertia = []\n",
    "\n",
    "#running Kmeans\n",
    "\n",
    "for f in no_of_clusters:\n",
    "    kmeans = KMeans(n_clusters=f, random_state=2)\n",
    "    kmeans = kmeans.fit(X_r)\n",
    "    u = kmeans.inertia_\n",
    "    inertia.append(u)\n",
    "    print(\"The innertia for :\", f, \"Clusters is:\", u)\n",
    "    if(f==3):\n",
    "        print('kmeans: {}'.format(silhouette_score(X_r, kmeans.labels_, \n",
    "                                           metric='euclidean')))\n",
    "\n",
    "# Creating the scree plot for Intertia - elbow method\n",
    "fig, (ax1) = plt.subplots(1, figsize=(16,6))\n",
    "xx = np.arange(len(no_of_clusters))\n",
    "ax1.plot(xx, inertia)\n",
    "ax1.set_xticks(xx)\n",
    "ax1.set_xticklabels(no_of_clusters, rotation='vertical')\n",
    "plt.xlabel('n_components Value')\n",
    "plt.ylabel('Inertia Score')\n",
    "plt.title(\"Inertia Plot per k\")\n"
   ]
  },
  {
   "attachments": {
    "slika1.PNG": {
     "image/png": "[encoded data removed]"
    }
   },
   "cell_type": "markdown",
   "metadata": {},
   "source": [
    "![slika1.PNG](attachment:slika1.PNG)"
   ]
  },
  {
   "attachments": {
    "slika2.PNG": {
     "image/png": "[encoded data removed]"
    }
   },
   "cell_type": "markdown",
   "metadata": {},
   "source": [
    "![slika2.PNG](attachment:slika2.PNG)"
   ]
  },
  {
   "cell_type": "code",
   "execution_count": null,
   "metadata": {},
   "outputs": [],
   "source": [
    "km=KMeans(n_clusters=3,random_state=42)\n",
    "km.fit(dataScaled)\n",
    "# Print results\n",
    "print('kmeans: {}'.format(silhouette_score(dataScaled, km.labels_, \n",
    "                                           metric='euclidean')))"
   ]
  },
  {
   "cell_type": "markdown",
   "metadata": {},
   "source": [
    "## Hierarchical clustering\n",
    "Svaki pripada svom klasteru na pocetku te imamo N klastera na pocetku svaki sa po jednom, zatim se nalaze najslicniji(najblizi) i oni se spajaju, i postaju novi klaster sve dok svi ne pripadaju svi jednom klasteru"
   ]
  },
  {
   "cell_type": "code",
   "execution_count": null,
   "metadata": {},
   "outputs": [],
   "source": [
    "cluster = MeanShift(n_jobs=1, cluster_all=False)\n",
    "model = cluster.fit(dataScaled)\n",
    "cluster.labels_"
   ]
  },
  {
   "cell_type": "code",
   "execution_count": null,
   "metadata": {},
   "outputs": [],
   "source": [
    "cluster = DBSCAN(n_jobs=-1)\n",
    "model = cluster.fit(dataScaled)\n",
    "cluster.labels_"
   ]
  },
  {
   "cell_type": "code",
   "execution_count": null,
   "metadata": {},
   "outputs": [],
   "source": [
    "data.Revenue.to_numpy()"
   ]
  }
 ],
 "metadata": {
  "kernelspec": {
   "display_name": "Python 3",
   "language": "python",
   "name": "python3"
  },
  "language_info": {
   "codemirror_mode": {
    "name": "ipython",
    "version": 3
   },
   "file_extension": ".py",
   "mimetype": "text/x-python",
   "name": "python",
   "nbconvert_exporter": "python",
   "pygments_lexer": "ipython3",
   "version": "3.8.5"
  }
 },
 "nbformat": 4,
 "nbformat_minor": 4
}
